{
 "cells": [
  {
   "cell_type": "code",
   "execution_count": 10,
   "metadata": {
    "collapsed": true
   },
   "outputs": [],
   "source": [
    "import sys\n",
    "sys.path.append(\"../../src\")\n",
    "import os\n",
    "import datetime\n",
    "import numpy as np\n",
    "from example_beam import get_data\n",
    "from sindy_utils import library_size\n",
    "from training import train_network\n",
    "from scipy.io import savemat\n",
    "import tensorflow as tf"
   ]
  },
  {
   "cell_type": "markdown",
   "metadata": {},
   "source": [
    "# Generate data"
   ]
  },
  {
   "cell_type": "code",
   "execution_count": 11,
   "metadata": {
    "collapsed": true
   },
   "outputs": [],
   "source": [
    "training_data, validation_data, linear_parameters = get_data(train=r'data\\trajectories\\non_linear_3.mat', test=r'data\\trajectories\\non_linear_2.mat')"
   ]
  },
  {
   "cell_type": "markdown",
   "metadata": {},
   "source": [
    "# Set up model and training parameters"
   ]
  },
  {
   "cell_type": "code",
   "execution_count": 12,
   "metadata": {
    "collapsed": true
   },
   "outputs": [],
   "source": [
    "params = {}\n",
    "\n",
    "params['save_results'] = False\n",
    "params['use_bias'] = False\n",
    "\n",
    "# reduced space & dynamics parameters\n",
    "params['input_dim'] = training_data['x'].shape[-1]\n",
    "params['latent_dim'] = 1\n",
    "params['model_order'] = 2\n",
    "params['poly_order'] = 3\n",
    "params['include_sine'] = False\n",
    "params['include_constant'] = False\n",
    "params['library_dim'] = library_size(params['model_order']*params['latent_dim'], params['poly_order'], params['include_sine'], params['include_constant'])\n",
    "\n",
    "params['coefficient_initialization'] = 'constant'\n",
    "\n",
    "# loss function weighting\n",
    "params['sequential_thresholding'] = False\n",
    "\n",
    "params['loss_weight_decoder'] = 1.0\n",
    "params['loss_weight_sindy_x'] = sum(sum(training_data['x']**2))/sum(sum(training_data['ddx']**2))\n",
    "params['loss_weight_sindy_z'] = 0.1 * sum(sum(training_data['x']**2))/sum(sum(training_data['ddx']**2))\n",
    "params['loss_weight_sindy_regularization'] = 0\n",
    "\n",
    "# enforcing linear terms\n",
    "m = linear_parameters['m']\n",
    "c = linear_parameters['c']\n",
    "k = linear_parameters['k']\n",
    "\n",
    "linear_terms = [(0, -k/m), (1, -c/m)] # List of tuples containing (index, coefficient) of the a-priori known linear model\n",
    "params['linear_terms'] = linear_terms\n",
    "\n",
    "# network architecture\n",
    "params['activation'] = 'elu'\n",
    "params['widths'] = [64,32]\n",
    "\n",
    "# training parameters\n",
    "params['epoch_size'] = training_data['x'].shape[0]\n",
    "params['batch_size'] = 1000\n",
    "params['learning_rate'] = 1e-4\n",
    "\n",
    "params['data_path'] = os.getcwd() + '/'\n",
    "params['print_progress'] = True\n",
    "params['print_frequency'] = 100\n",
    "\n",
    "# training time cutoffs\n",
    "params['max_epochs'] = 15001\n",
    "params['refinement_epochs'] = 0"
   ]
  },
  {
   "cell_type": "markdown",
   "metadata": {},
   "source": [
    "# Run training experiments"
   ]
  },
  {
   "cell_type": "code",
   "execution_count": null,
   "metadata": {
    "collapsed": true
   },
   "outputs": [],
   "source": [
    "num_experiments = 10\n",
    "for i in range(num_experiments):\n",
    "    print('EXPERIMENT %d' % i)\n",
    "\n",
    "    params['coefficient_mask'] = np.ones((params['library_dim'], params['latent_dim']))\n",
    "    tf.reset_default_graph()\n",
    "\n",
    "    results_dict = train_network(training_data, validation_data, params)\n",
    "\n",
    "    save_name = 'data\\learned_parameters\\SPLIT_' + datetime.datetime.now().strftime(\"%Y_%m_%d_%H_%M_%S_%f\") + '.mat'\n",
    "    savemat(save_name, results_dict['learned_parameters'])"
   ]
  },
  {
   "cell_type": "markdown",
   "metadata": {},
   "source": [
    "# Generate plots of loss function\n",
    "The last experiment is used to generate these plots"
   ]
  },
  {
   "cell_type": "code",
   "execution_count": null,
   "metadata": {},
   "outputs": [],
   "source": [
    "import matplotlib.pyplot as plt\n",
    "\n",
    "titles = ['Enc-Dec','SINDy (latent space)','SINDy (decoded)','SINDy regularization']\n",
    "fig, axs = plt.subplots(2,2)\n",
    "for i in range(4):\n",
    "    plt.subplot(2, 2, i+1)\n",
    "    plt.plot(np.arange(0,100*results_dict['training_losses'].shape[0],100),results_dict['training_losses'][:,i+1], label='Training')\n",
    "    plt.plot(np.arange(0,100*results_dict['validation_losses'].shape[0],100),results_dict['validation_losses'][:,i+1], label='Testing')\n",
    "    plt.yscale('log')\n",
    "    plt.title(titles[i])\n",
    "    plt.xlabel('Epoch')\n",
    "    plt.ylabel('Loss')\n",
    "plt.tight_layout()\n",
    "plt.show()\n",
    "\n",
    "plt.figure()\n",
    "plt.plot(np.arange(0,100*results_dict['training_losses'].shape[0],100),results_dict['training_losses'][:,0], label='Training')\n",
    "plt.plot(np.arange(0,100*results_dict['validation_losses'].shape[0],100),results_dict['validation_losses'][:,0], label='Testing')\n",
    "plt.yscale('log')\n",
    "plt.title('(Weighted) Total')\n",
    "plt.xlabel('Epoch')\n",
    "plt.ylabel('Loss')\n",
    "plt.tight_layout()\n",
    "plt.legend()\n",
    "plt.show()"
   ]
  }
 ],
 "metadata": {
  "kernelspec": {
   "display_name": "Python 3",
   "language": "python",
   "name": "python3"
  },
  "language_info": {
   "codemirror_mode": {
    "name": "ipython",
    "version": 3
   },
   "file_extension": ".py",
   "mimetype": "text/x-python",
   "name": "python",
   "nbconvert_exporter": "python",
   "pygments_lexer": "ipython3",
   "version": "3.7.16"
  },
  "toc": {
   "base_numbering": 1,
   "nav_menu": {},
   "number_sections": true,
   "sideBar": true,
   "skip_h1_title": false,
   "title_cell": "Table of Contents",
   "title_sidebar": "Contents",
   "toc_cell": false,
   "toc_position": {},
   "toc_section_display": true,
   "toc_window_display": false
  },
  "varInspector": {
   "cols": {
    "lenName": 16,
    "lenType": 16,
    "lenVar": 40
   },
   "kernels_config": {
    "python": {
     "delete_cmd_postfix": "",
     "delete_cmd_prefix": "del ",
     "library": "var_list.py",
     "varRefreshCmd": "print(var_dic_list())"
    },
    "r": {
     "delete_cmd_postfix": ") ",
     "delete_cmd_prefix": "rm(",
     "library": "var_list.r",
     "varRefreshCmd": "cat(var_dic_list()) "
    }
   },
   "types_to_exclude": [
    "module",
    "function",
    "builtin_function_or_method",
    "instance",
    "_Feature"
   ],
   "window_display": false
  }
 },
 "nbformat": 4,
 "nbformat_minor": 2
}
